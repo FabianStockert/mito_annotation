{
 "cells": [
  {
   "cell_type": "code",
   "execution_count": null,
   "id": "a6ffadd2",
   "metadata": {},
   "outputs": [],
   "source": [
    "import re\n",
    "import pandas as pd\n",
    "from Bio import SeqIO\n",
    "from IPython.display import display\n",
    "\n",
    "# Ask the user for the input FASTA file\n",
    "fasta_file = input(\"Please enter the full name of the FASTA file and press Enter: \")\n",
    "\n",
    "# Initialize lists to store different fields\n",
    "databases, ids, protein_names, sequences, organisms, gene_names, taxonomy_ids = [], [], [], [], [], [], []\n",
    "\n",
    "# Define a regular expression pattern to extract information from the FASTA header\n",
    "header_pattern = r'([^ ]*) (.*) OS=(.*) OX=(.*)$'\n",
    "\n",
    "# Open and parse the FASTA file\n",
    "with open(fasta_file, \"r\") as file:\n",
    "    for record in SeqIO.parse(file, \"fasta\"):\n",
    "        full_id = record.id\n",
    "        description_line = record.description\n",
    "        databases.append(full_id.split('|')[0])\n",
    "        ids.append(full_id.split('|')[1])\n",
    "        sequences.append(str(record.seq))\n",
    "\n",
    "        match = re.match(header_pattern, description_line)\n",
    "        protein_names.append(match.group(2))\n",
    "        organisms.append(match.group(3))\n",
    "        taxonomy_ids.append(match.group(4).split(' ')[0])\n",
    "        gene_names.append(match.group(4).split(' ')[1][3:] if len(match.group(4).split(' ')) > 1 else '')\n",
    "\n",
    "print(f'Read in {len(ids)} sequences from FASTA file {fasta_file}.')\n",
    "\n",
    "# Create a DataFrame using the collected information\n",
    "df_genes = pd.DataFrame({\n",
    "    'Protein Id': ids,\n",
    "    'Database': databases,\n",
    "    'Protein Name': protein_names,\n",
    "    'Organism': organisms,\n",
    "    'Taxonomy ID': taxonomy_ids,\n",
    "    'Gene Name': gene_names,\n",
    "    'seq': sequences\n",
    "})\n",
    "\n",
    "# Define the name for the output TSV file\n",
    "output_tsv_name = fasta_file.replace('.fasta', '.tsv')\n",
    "\n",
    "# Write the DataFrame to a TSV file\n",
    "df_genes.to_csv(output_tsv_name, sep='\\t', index=False)\n",
    "\n",
    "print(f\"Data has been written to {output_tsv_name}\")"
   ]
  },
  {
   "cell_type": "code",
   "execution_count": null,
   "id": "eb906e3b",
   "metadata": {},
   "outputs": [],
   "source": []
  }
 ],
 "metadata": {
  "kernelspec": {
   "display_name": "Python 3 (ipykernel)",
   "language": "python",
   "name": "python3"
  },
  "language_info": {
   "codemirror_mode": {
    "name": "ipython",
    "version": 3
   },
   "file_extension": ".py",
   "mimetype": "text/x-python",
   "name": "python",
   "nbconvert_exporter": "python",
   "pygments_lexer": "ipython3",
   "version": "3.9.13"
  },
  "toc": {
   "base_numbering": 1,
   "nav_menu": {},
   "number_sections": true,
   "sideBar": true,
   "skip_h1_title": false,
   "title_cell": "Table of Contents",
   "title_sidebar": "Contents",
   "toc_cell": false,
   "toc_position": {},
   "toc_section_display": true,
   "toc_window_display": false
  }
 },
 "nbformat": 4,
 "nbformat_minor": 5
}
