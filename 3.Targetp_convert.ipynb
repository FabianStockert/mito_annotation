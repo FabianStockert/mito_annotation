{
 "cells": [
  {
   "cell_type": "markdown",
   "id": "d37a425c",
   "metadata": {},
   "source": [
    "Before running the script, manually edit the .targetp2 file as follows:\n",
    "\n",
    "1. Open the .targetp2 file in a text editor.\n",
    "2. Delete the first row.\n",
    "3. In the second row (which contains the column names), add the column names CS1, CS2, CS3, CS4, and CS5 \n",
    "after the CS Position column. Ensure the newly added column names are tab-separated.\n",
    "4. Save the changes and proceed with running the script."
   ]
  },
  {
   "cell_type": "code",
   "execution_count": null,
   "id": "ba97037f",
   "metadata": {},
   "outputs": [],
   "source": [
    "import pandas as pd\n",
    "\n",
    "# Get the input file name from the user\n",
    "input_file = input(\"Please enter the name of the input targetp2 file and click enter: \")\n",
    "\n",
    "# Read the input targetp2 file\n",
    "df_targetp2 = pd.read_csv(input_file, sep='\\t')\n",
    "\n",
    "# Convert the \"CS Position\" column to string and assign it to a new column \"Combined_CS\"\n",
    "df_targetp2[\"Combined_CS\"] = df_targetp2[\"CS Position\"].astype(str)\n",
    "\n",
    "# Define a list of column names\n",
    "cs_columns = [\"CS1\", \"CS2\", \"CS3\", \"CS4\", \"CS5\"]\n",
    "\n",
    "# Ensure the additional CS columns are present in the DataFrame (fill with NaN if they don't exist)\n",
    "for col in cs_columns:\n",
    "    if col not in df_targetp2.columns:\n",
    "        df_targetp2[col] = None\n",
    "\n",
    "# Concatenate the values in \"Combined_CS\" with non-null values from each CS column, separated by space\n",
    "df_targetp2[\"Combined_CS\"] = df_targetp2.apply(lambda row: ' '.join(filter(None, [row[\"Combined_CS\"]] + [str(x) for x in row[cs_columns].dropna()])), axis=1)\n",
    "\n",
    "# Drop the CS columns and the \"CS Position\" column from the DataFrame\n",
    "df_targetp2.drop(columns=cs_columns, inplace=True)\n",
    "df_targetp2.drop(columns=\"CS Position\", inplace=True)\n",
    "\n",
    "# Display the modified DataFrame\n",
    "display(df_targetp2)\n",
    "\n",
    "# Define the output file name\n",
    "output_file = input_file.replace(\".targetp2\", \"_modified.targetp2\")\n",
    "\n",
    "# Write the modified DataFrame to a new TSV file\n",
    "df_targetp2.to_csv(output_file, sep='\\t', index=False)\n",
    "\n",
    "print(f\"Modified data has been saved to {output_file}\")"
   ]
  },
  {
   "cell_type": "code",
   "execution_count": null,
   "id": "07a94fcc",
   "metadata": {},
   "outputs": [],
   "source": []
  }
 ],
 "metadata": {
  "kernelspec": {
   "display_name": "Python 3 (ipykernel)",
   "language": "python",
   "name": "python3"
  },
  "language_info": {
   "codemirror_mode": {
    "name": "ipython",
    "version": 3
   },
   "file_extension": ".py",
   "mimetype": "text/x-python",
   "name": "python",
   "nbconvert_exporter": "python",
   "pygments_lexer": "ipython3",
   "version": "3.9.13"
  }
 },
 "nbformat": 4,
 "nbformat_minor": 5
}
